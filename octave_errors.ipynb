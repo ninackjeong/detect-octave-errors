{
 "cells": [
  {
   "cell_type": "code",
   "execution_count": 1,
   "metadata": {},
   "outputs": [],
   "source": [
    "import glob\n",
    "import pandas as pd"
   ]
  },
  {
   "cell_type": "code",
   "execution_count": 83,
   "metadata": {},
   "outputs": [],
   "source": [
    "files = glob.glob('/Users/ninackjeong/Documents/tono_initial/recording/94KCM/*.means') "
   ]
  },
  {
   "cell_type": "code",
   "execution_count": 84,
   "metadata": {},
   "outputs": [
    {
     "name": "stdout",
     "output_type": "stream",
     "text": [
      "220\n"
     ]
    }
   ],
   "source": [
    "print(len(files))"
   ]
  },
  {
   "cell_type": "code",
   "execution_count": 9,
   "metadata": {},
   "outputs": [],
   "source": [
    "# if there is no encoding error\n",
    "vowels = ['aa', 'xx', 'EE', 'oo', 'yv', 'uu', 'ii', 'wE']\n",
    "\n",
    "for file in files:\n",
    "    data = pd.read_csv(file, sep='\\t', usecols = [\"rowLabel\",\"maxf0\",\"minf0\",\"meanf0\",\"finalf0\"])\n",
    "    #data.columns = [\"rowLabel\",\"maxf0\",\"minf0\",\"excursion_size\",\"meanf0\",\"finalf0\",\"mean_intensity\",\"duration\",\"max_velocity\",\"final_velocity\",\"maxf0_loc_ms\",\"maxf0_loc_ratio\"]\n",
    "\n",
    "    new_data = data[data['rowLabel'].isin(vowels)]\n",
    "    for i, row in new_data.iterrows():\n",
    "        if abs(row[1] - row[2]) >= 2*row[2]:\n",
    "            print(file, row)"
   ]
  },
  {
   "cell_type": "code",
   "execution_count": 86,
   "metadata": {},
   "outputs": [
    {
     "name": "stdout",
     "output_type": "stream",
     "text": [
      "/Users/ninackjeong/Documents/tono_initial/recording/94KCM/066_sounding.means rowLabel                   aa\n",
      "maxf0                 592.283\n",
      "minf0                 130.498\n",
      "meanf0      414.5687337134049\n",
      "finalf0               301.478\n",
      "Name: 1, dtype: object\n",
      "/Users/ninackjeong/Documents/tono_initial/recording/94KCM/019_sounding.means rowLabel                  EE\n",
      "maxf0                539.495\n",
      "minf0                190.128\n",
      "meanf0      459.642825495013\n",
      "finalf0               521.35\n",
      "Name: 1, dtype: object\n",
      "/Users/ninackjeong/Documents/tono_initial/recording/94KCM/112_sounding.means rowLabel                   EE\n",
      "maxf0                 538.594\n",
      "minf0                 154.025\n",
      "meanf0      387.5201680320047\n",
      "finalf0               211.451\n",
      "Name: 1, dtype: object\n"
     ]
    }
   ],
   "source": [
    "# if there is no encoding error\n",
    "vowels = ['aa', 'xx', 'EE', 'oo', 'yv', 'uu', 'ii', 'wE']\n",
    "\n",
    "for file in files:\n",
    "    data = pd.read_csv(file, sep='\\t', usecols = [\"rowLabel\",\"maxf0\",\"minf0\",\"meanf0\",\"finalf0\"])\n",
    "    #data.columns = [\"rowLabel\",\"maxf0\",\"minf0\",\"excursion_size\",\"meanf0\",\"finalf0\",\"mean_intensity\",\"duration\",\"max_velocity\",\"final_velocity\",\"maxf0_loc_ms\",\"maxf0_loc_ratio\"]\n",
    "\n",
    "    new_data = data[data['rowLabel'].isin(vowels)]\n",
    "    for i, row in new_data.iterrows():\n",
    "        if abs(row[1] - row[2]) >= 1.75*row[2]:\n",
    "            print(file, row)"
   ]
  },
  {
   "cell_type": "code",
   "execution_count": 229,
   "metadata": {},
   "outputs": [],
   "source": [
    "# encoding error solved\n",
    "vowels = ['aa', 'xx', 'EE', 'oo', 'yv', 'uu', 'ii', 'wE']\n",
    "\n",
    "for file in files:\n",
    "    data = pd.read_csv(file, encoding = 'latin1', sep='\\t', names = ['meanf0', 'excursion_size', 'duration', 'max_velocity', 'maxf0', 'maxf0_loc_ms', 'maxf0_loc_ratio', 'mean_intensity', 'minf0', 'rowLabel', 'final_velocity', 'finalf0'])\n",
    "    #data.columns = [\"rowLabel\",\"maxf0\",\"minf0\",\"excursion_size\",\"meanf0\",\"finalf0\",\"mean_intensity\",\"duration\",\"max_velocity\",\"final_velocity\",\"maxf0_loc_ms\",\"maxf0_loc_ratio\"]\n",
    "\n",
    "    new_data = data[data['rowLabel'].isin(vowels)]\n",
    "    for i, row in new_data.iterrows():\n",
    "        if abs(row[1] - row[2]) >= 2*row[2]:\n",
    "            print(file, row)"
   ]
  },
  {
   "cell_type": "code",
   "execution_count": 6,
   "metadata": {},
   "outputs": [],
   "source": [
    "# encoding error solved\n",
    "vowels = ['aa', 'xx', 'EE', 'oo', 'yv', 'uu', 'ii', 'wE']\n",
    "\n",
    "for file in files:\n",
    "    data = pd.read_csv(file, encoding = 'latin1', sep='\\t', names = ['meanf0', 'excursion_size', 'duration', 'max_velocity', 'maxf0', 'maxf0_loc_ms', 'maxf0_loc_ratio', 'mean_intensity', 'minf0', 'rowLabel', 'final_velocity', 'finalf0'])\n",
    "    #data.columns = [\"rowLabel\",\"maxf0\",\"minf0\",\"excursion_size\",\"meanf0\",\"finalf0\",\"mean_intensity\",\"duration\",\"max_velocity\",\"final_velocity\",\"maxf0_loc_ms\",\"maxf0_loc_ratio\"]\n",
    "\n",
    "    new_data = data[data['rowLabel'].isin(vowels)]\n",
    "    for i, row in new_data.iterrows():\n",
    "        if abs(row[1] - row[2]) >= 1.5*row[2]:\n",
    "            print(file, row)"
   ]
  },
  {
   "cell_type": "code",
   "execution_count": 222,
   "metadata": {},
   "outputs": [],
   "source": [
    "# not used because this is the last resort\n",
    "# if the encoding error persists, merge the files into one file and then do the job using excel\n",
    "\n",
    "#ujb = []\n",
    "#for file in files:\n",
    "#    f = open(file, 'r', encoding='latin1')\n",
    "#    lines = f.readlines()\n",
    "#    for line in lines:\n",
    "#        line = line.split('\\n')\n",
    "#        ujb.append(line)"
   ]
  }
 ],
 "metadata": {
  "kernelspec": {
   "display_name": "Python 3",
   "language": "python",
   "name": "python3"
  },
  "language_info": {
   "codemirror_mode": {
    "name": "ipython",
    "version": 3
   },
   "file_extension": ".py",
   "mimetype": "text/x-python",
   "name": "python",
   "nbconvert_exporter": "python",
   "pygments_lexer": "ipython3",
   "version": "3.6.10"
  }
 },
 "nbformat": 4,
 "nbformat_minor": 4
}
